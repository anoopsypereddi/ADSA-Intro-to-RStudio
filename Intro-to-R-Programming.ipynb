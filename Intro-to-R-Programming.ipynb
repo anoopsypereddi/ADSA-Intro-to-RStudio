{
 "cells": [
  {
   "cell_type": "markdown",
   "metadata": {},
   "source": [
    "<div style=\"display:flex;margin: 20px 10%\">\n",
    "<img src=\"http://i.imgur.com/BV0CdHZ.png?2\" alt=\"ADSA logo\" style=\"height:200px;vertical-align:middle\"/>\n",
    "</div>\n",
    "\n",
    "# Fall 2017 ADSA Workshop - Intro to R Programming\n",
    "\n",
    "The workshop is adapted from:\n",
    "* http://www.tutorialspoint.com/r/r_tutorial.pdf\n",
    "* https://stat.ethz.ch/R-manual/R-devel/library/graphics/html/hist.html\n",
    "* https://www.tutorialspoint.com/r/r_scatterplots.htm\n",
    "* https://stat.ethz.ch/R-manual/R-devel/library/graphics/html/abline.html\n",
    "* https://stat.ethz.ch/R-manual/R-devel/library/base/html/replace.html"
   ]
  },
  {
   "cell_type": "markdown",
   "metadata": {
    "collapsed": false
   },
   "source": [
    "-----\n",
    "\n",
    "## Data Types in R:\n",
    "\n",
    " There are several data types in R including logical, numeric, integer, complex, and character types. \n",
    " \n",
    "### Logical:"
   ]
  },
  {
   "cell_type": "code",
   "execution_count": null,
   "metadata": {
    "collapsed": false
   },
   "outputs": [],
   "source": [
    "\n",
    "print(class(v))"
   ]
  },
  {
   "cell_type": "markdown",
   "metadata": {},
   "source": [
    "### Integer and Numeric:\n",
    "\n",
    "The difference between these two types is that integers can not have decimals in them. R by default assumes all values with numbers are numeric unless specified with an \"L\""
   ]
  },
  {
   "cell_type": "code",
   "execution_count": null,
   "metadata": {
    "collapsed": false
   },
   "outputs": [],
   "source": [
    "v <- 2\n",
    "print(class(v))"
   ]
  },
  {
   "cell_type": "code",
   "execution_count": null,
   "metadata": {
    "collapsed": false
   },
   "outputs": [],
   "source": [
    "\n",
    "print(class(v))"
   ]
  },
  {
   "cell_type": "markdown",
   "metadata": {},
   "source": [
    "### Complex:"
   ]
  },
  {
   "cell_type": "code",
   "execution_count": null,
   "metadata": {
    "collapsed": false
   },
   "outputs": [],
   "source": [
    "print(class(v))"
   ]
  },
  {
   "cell_type": "markdown",
   "metadata": {},
   "source": [
    "### Character:"
   ]
  },
  {
   "cell_type": "code",
   "execution_count": null,
   "metadata": {
    "collapsed": false
   },
   "outputs": [],
   "source": [
    "print(class(v))"
   ]
  },
  {
   "cell_type": "markdown",
   "metadata": {
    "collapsed": false
   },
   "source": [
    "\n",
    "------\n",
    "## Operations in R:\n",
    "\n",
    "R allows for multiple different opperations such as:\n",
    "\n",
    "### Simple Arithmetic:"
   ]
  },
  {
   "cell_type": "code",
   "execution_count": null,
   "metadata": {
    "collapsed": true
   },
   "outputs": [],
   "source": [
    "x <- 2\n",
    "y <- 4"
   ]
  },
  {
   "cell_type": "code",
   "execution_count": null,
   "metadata": {
    "collapsed": false
   },
   "outputs": [],
   "source": []
  },
  {
   "cell_type": "code",
   "execution_count": null,
   "metadata": {
    "collapsed": false
   },
   "outputs": [],
   "source": []
  },
  {
   "cell_type": "markdown",
   "metadata": {},
   "source": [
    "### More complex operations:"
   ]
  },
  {
   "cell_type": "code",
   "execution_count": null,
   "metadata": {
    "collapsed": false,
    "scrolled": true
   },
   "outputs": [],
   "source": []
  },
  {
   "cell_type": "code",
   "execution_count": null,
   "metadata": {
    "collapsed": false
   },
   "outputs": [],
   "source": []
  },
  {
   "cell_type": "markdown",
   "metadata": {},
   "source": [
    "------\n",
    "\n",
    "## Assignments in R:\n",
    "\n",
    "Assign values in R using the '<-' symbol. In R values of the same data type can be stored together using combine represented by 'c' into vectors."
   ]
  },
  {
   "cell_type": "code",
   "execution_count": null,
   "metadata": {
    "collapsed": false
   },
   "outputs": [],
   "source": [
    "values <- c(1,2,3,4)\n",
    "values"
   ]
  },
  {
   "cell_type": "code",
   "execution_count": null,
   "metadata": {
    "collapsed": false
   },
   "outputs": [],
   "source": [
    "names <- c(\"Jake\", \"Jessica\", \"Rachel\", \"Alex\")\n",
    "names"
   ]
  },
  {
   "cell_type": "markdown",
   "metadata": {},
   "source": [
    "R allows accessing values within vectors by using square brackets [] allowing for us to fetch and modify values in the vector."
   ]
  },
  {
   "cell_type": "code",
   "execution_count": null,
   "metadata": {
    "collapsed": false
   },
   "outputs": [],
   "source": [
    "values[3]\n",
    "names[2]"
   ]
  },
  {
   "cell_type": "code",
   "execution_count": null,
   "metadata": {
    "collapsed": false
   },
   "outputs": [],
   "source": [
    "\n",
    "values"
   ]
  },
  {
   "cell_type": "markdown",
   "metadata": {},
   "source": [
    "------\n",
    "\n",
    "## Lists, Matrixes, and Arrays:\n",
    "\n",
    "Lists are an R-Object type which can contain many different types of elements such as vectors, functions, and even lists inside."
   ]
  },
  {
   "cell_type": "code",
   "execution_count": null,
   "metadata": {
    "collapsed": false
   },
   "outputs": [],
   "source": [
    "list1 <- list(\"Hello\", c(1,2,3), 22, cos)\n",
    "print(list1)"
   ]
  },
  {
   "cell_type": "markdown",
   "metadata": {},
   "source": [
    "\n",
    "Matrixes are 2D data sets which can be created using vector input."
   ]
  },
  {
   "cell_type": "code",
   "execution_count": null,
   "metadata": {
    "collapsed": false
   },
   "outputs": [],
   "source": [
    "m = matrix(c('a','b','c','d'), nrow = 2, ncol = 2, byrow = \"TRUE\")\n",
    "print(m)"
   ]
  },
  {
   "cell_type": "markdown",
   "metadata": {},
   "source": [
    "Arrays alows more dimentions to the array."
   ]
  },
  {
   "cell_type": "code",
   "execution_count": null,
   "metadata": {
    "collapsed": false
   },
   "outputs": [],
   "source": [
    "a <- array(m, dim = c(2,2,2))\n",
    "print(a)"
   ]
  },
  {
   "cell_type": "markdown",
   "metadata": {
    "collapsed": true
   },
   "source": [
    "----\n",
    "\n",
    "# Using R to Visualize Data\n",
    "\n",
    "\n",
    "R's primary use however is using many data points rather than a few, and these data points are usually stored in CSV files. CSV stands for comma seperated values and each line contains a row of values and each column is seperated by a comma. The first line is assumed to be the labels for each column. This data can be visualize in many different ways as we will explore below."
   ]
  },
  {
   "cell_type": "markdown",
   "metadata": {},
   "source": [
    "`setwd(dir)`\n",
    "\n",
    "*dir*: path to the folder you want to be working in"
   ]
  },
  {
   "cell_type": "code",
   "execution_count": null,
   "metadata": {
    "collapsed": true
   },
   "outputs": [],
   "source": [
    "# Set up the current working directory\n",
    "setwd(\"../ADSA-Intro-to-R/\")"
   ]
  },
  {
   "cell_type": "code",
   "execution_count": null,
   "metadata": {
    "collapsed": false
   },
   "outputs": [],
   "source": [
    "# Read csv into a data frame\n",
    "data = read.csv(\"tips.csv\")\n",
    "head(data)"
   ]
  },
  {
   "cell_type": "markdown",
   "metadata": {},
   "source": [
    "\n",
    "\n",
    "Single Boxplot:"
   ]
  },
  {
   "cell_type": "code",
   "execution_count": null,
   "metadata": {
    "collapsed": false
   },
   "outputs": [],
   "source": [
    "boxplot(data$totbill, main=\"How Much People Spent For a Meal\", ylab = \"Amount of money spent in US dollars\")"
   ]
  },
  {
   "cell_type": "markdown",
   "metadata": {},
   "source": [
    "Exercise: Boxplot for the tips people given for a meal"
   ]
  },
  {
   "cell_type": "code",
   "execution_count": null,
   "metadata": {
    "collapsed": false
   },
   "outputs": [],
   "source": []
  },
  {
   "cell_type": "markdown",
   "metadata": {},
   "source": [
    "Exercise: Boxplot money spent for a meal by day"
   ]
  },
  {
   "cell_type": "code",
   "execution_count": null,
   "metadata": {
    "collapsed": false
   },
   "outputs": [],
   "source": [
    "boxplot(totbill~day, data = data, main = \"How Much People Spent For a Meal - Across Days\", xlab = \"Days\", ylab = \"Amount of money spent in US dollars\")"
   ]
  },
  {
   "cell_type": "markdown",
   "metadata": {},
   "source": [
    "Exercise: Class-conditional Boxplot based on day or night"
   ]
  },
  {
   "cell_type": "code",
   "execution_count": null,
   "metadata": {
    "collapsed": false
   },
   "outputs": [],
   "source": []
  },
  {
   "cell_type": "markdown",
   "metadata": {},
   "source": [
    "Boxplot for money spent based on table size: Total and Per Person"
   ]
  },
  {
   "cell_type": "code",
   "execution_count": null,
   "metadata": {
    "collapsed": false
   },
   "outputs": [],
   "source": [
    "boxplot(totbill~size, data = data, main = \"How Much People Spent For a Meal - Table Size\", xlab = \"Number of people for one table\", ylab = \"Amount of money spent in US dollars\")\n"
   ]
  },
  {
   "cell_type": "markdown",
   "metadata": {},
   "source": [
    "### Constructing Histograms:"
   ]
  },
  {
   "cell_type": "code",
   "execution_count": null,
   "metadata": {
    "collapsed": false
   },
   "outputs": [],
   "source": [
    "hist(data$totbill)"
   ]
  },
  {
   "cell_type": "markdown",
   "metadata": {},
   "source": [
    "Setting up breakpoints in the histogram"
   ]
  },
  {
   "cell_type": "code",
   "execution_count": null,
   "metadata": {
    "collapsed": false
   },
   "outputs": [],
   "source": [
    "breakpoints <- seq(0, 55, 2)\n",
    "hist(data$totbill, breaks = breakpoints, main = \"How Much People Spent For a Meal\", xlab = \"Amount of Money Spent in US Dollars\", ylab = \"Number of Transactions\")"
   ]
  },
  {
   "cell_type": "markdown",
   "metadata": {},
   "source": [
    "Setting up limits on x/y-axis"
   ]
  },
  {
   "cell_type": "code",
   "execution_count": 1,
   "metadata": {
    "collapsed": false
   },
   "outputs": [
    {
     "ename": "ERROR",
     "evalue": "Error in data$totbill: object of type 'closure' is not subsettable\n",
     "output_type": "error",
     "traceback": [
      "Error in data$totbill: object of type 'closure' is not subsettable\nTraceback:\n",
      "1. hist(data$totbill, breaks = breakpoints, main = \"How Much People Spent For a Meal\", \n .     xlab = \"Amount of Money Spent in US Dollars\", ylab = \"Number of Transactions\", \n .     xlim = c(0, 20))"
     ]
    }
   ],
   "source": [
    "hist(data$totbill, breaks = breakpoints, main = \"How Much People Spent For a Meal\", xlab = \"Amount of Money Spent in US Dollars\", ylab = \"Number of Transactions\", xlim = c(0, 20))\n",
    "hist(data$totbill, breaks = breakpoints, main = \"How Much People Spent For a Meal\", xlab = \"Amount of Money Spent in US Dollars\", ylab = \"Number of Transactions\", ylim = c(0, 40))"
   ]
  },
  {
   "cell_type": "markdown",
   "metadata": {},
   "source": [
    "Creating Conditional Histograms based on How much spent for a Meal across days and across time"
   ]
  },
  {
   "cell_type": "code",
   "execution_count": null,
   "metadata": {
    "collapsed": false,
    "scrolled": true
   },
   "outputs": [],
   "source": [
    "library(lattice)\n",
    "histogram(~totbill | day, data, main = \"How Much People Spent For a Meal - Across Days\", xlab = \"Amount of Money Spent\", ylab = \"Percent of Total\")"
   ]
  },
  {
   "cell_type": "markdown",
   "metadata": {},
   "source": [
    "### Constructing Scatter Plots:"
   ]
  },
  {
   "cell_type": "code",
   "execution_count": null,
   "metadata": {
    "collapsed": false
   },
   "outputs": [],
   "source": [
    "data = read.csv(\"Stat100_2013fall_survey01.csv\")\n",
    "\n",
    "# Scatter plot\n",
    "plot(data$height, data$weight, xlab = \"Height\", ylab = \"Weight\", main = \"Height-Weight Relationship for Students in Stat 100\")\n",
    "# Regression Line\n",
    "# Notice that plot(x, y) and abline(lm(y~x))\n",
    "abline(lm(data$weight~data$height))\n",
    "lm(data$weight~data$height)"
   ]
  },
  {
   "cell_type": "code",
   "execution_count": null,
   "metadata": {
    "collapsed": false
   },
   "outputs": [],
   "source": [
    "# Label for Scatter Plots\n",
    "data$genderChar = substr(data$gender, 1, 1)\n",
    "data$genderChar = toupper(data$genderChar)\n",
    "plot(data$height, data$weight, xlab = \"Height\", ylab = \"Weight\", main = \"Height-Weight Relationship for Students in Stat 100 - Gender\", type=\"n\")\n",
    "text(data$height, data$weight, labels=as.character(data$genderChar))"
   ]
  },
  {
   "cell_type": "code",
   "execution_count": null,
   "metadata": {
    "collapsed": false
   },
   "outputs": [],
   "source": [
    "# Bonus: Color Different Categories in Scatter Plot\n",
    "data$genderChar = replace(data$genderChar, data$genderChar == 'M', 1)\n",
    "data$genderChar = replace(data$genderChar, data$genderChar == 'F', 2)\n",
    "class(data$genderChar) <- \"numeric\"\n",
    "plot(data$height, data$weight, xlab = \"Height\", ylab = \"Weight\", main = \"Height-Weight Relationship for Students in Stat 100\", col = c(\"blue\", \"red\")[data$genderChar])\n",
    "legend(\"topright\", legend = c(\"M\", \"F\"), col=c(\"blue\", \"red\"), pch=1)"
   ]
  },
  {
   "cell_type": "code",
   "execution_count": null,
   "metadata": {
    "collapsed": false
   },
   "outputs": [],
   "source": [
    "plot(data$ageMother, data$ageFather, main = \"Age for Mother and Father\", xlab=\"Age of Mother\", ylab = \"Age of Father\", col = c(\"blue\", \"red\")[data$genderChar])\n",
    "legend(\"bottomright\", legend = c(\"M\", \"F\"), col=c(\"blue\", \"red\"), pch=1)"
   ]
  }
 ],
 "metadata": {
  "anaconda-cloud": {},
  "kernelspec": {
   "display_name": "R",
   "language": "R",
   "name": "ir"
  },
  "language_info": {
   "codemirror_mode": "r",
   "file_extension": ".r",
   "mimetype": "text/x-r-source",
   "name": "R",
   "pygments_lexer": "r",
   "version": "3.3.1"
  }
 },
 "nbformat": 4,
 "nbformat_minor": 0
}

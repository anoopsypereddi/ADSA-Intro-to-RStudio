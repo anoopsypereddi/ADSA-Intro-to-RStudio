{
 "cells": [
  {
   "cell_type": "code",
   "execution_count": 47,
   "metadata": {
    "collapsed": false
   },
   "outputs": [
    {
     "ename": "ERROR",
     "evalue": "Error in parse(text = x, srcfile = src): <text>:3:1: unexpected '<'\n2: \n3: <\n   ^\n",
     "output_type": "error",
     "traceback": [
      "Error in parse(text = x, srcfile = src): <text>:3:1: unexpected '<'\n2: \n3: <\n   ^\nTraceback:\n"
     ]
    }
   ],
   "source": [
    "# Using Jupyter notebooks with R in the classroom\n",
    "\n",
    "<div style=\"display:flex;margin: 20px 10%\">\n",
    "<img src=\"http://i.imgur.com/BV0CdHZ.png?2\" alt=\"ADSA logo\" style=\"height:200px;vertical-align:middle\"/>\n",
    "</div>\n"
   ]
  },
  {
   "cell_type": "code",
   "execution_count": 2,
   "metadata": {
    "collapsed": false
   },
   "outputs": [
    {
     "name": "stdout",
     "output_type": "stream",
     "text": [
      "x + y = 6 \n",
      "y - x = 2 \n",
      "sqrt(y) = 2 \n",
      "y^(x + y) =  4096 \n"
     ]
    }
   ],
   "source": [
    "#R allows for a plethora of different opperations such as:\n",
    "#x + y\n",
    "x <- 2\n",
    "y <- 4\n",
    "\n",
    "cat(\"x + y =\", x + y, \"\\n\")\n",
    "\n",
    "#y - x\n",
    "cat(\"y - x =\", y - x, \"\\n\")\n",
    "\n",
    "#square root y\n",
    "cat(\"sqrt(y) =\", sqrt(y), \"\\n\")\n",
    "\n",
    "#y^(x + y)\n",
    "cat(\"y^(x + y) = \", y ^ (x + y), \"\\n\")\n"
   ]
  },
  {
   "cell_type": "code",
   "execution_count": 12,
   "metadata": {
    "collapsed": false
   },
   "outputs": [],
   "source": [
    "# Assignments in R\n",
    "# The c stands for combine and the idea is to store the list under a \n",
    "# given name refering to the data using the '<-' symbol\n",
    "values <- c(1,2,3,4)\n",
    "names <- c(\"Jake\", \"Jessica\", \"Rachel\", \"Alex\")"
   ]
  },
  {
   "cell_type": "code",
   "execution_count": 13,
   "metadata": {
    "collapsed": false
   },
   "outputs": [
    {
     "data": {
      "text/html": [
       "3"
      ],
      "text/latex": [
       "3"
      ],
      "text/markdown": [
       "3"
      ],
      "text/plain": [
       "[1] 3"
      ]
     },
     "metadata": {},
     "output_type": "display_data"
    },
    {
     "data": {
      "text/html": [
       "'Jessica'"
      ],
      "text/latex": [
       "'Jessica'"
      ],
      "text/markdown": [
       "'Jessica'"
      ],
      "text/plain": [
       "[1] \"Jessica\""
      ]
     },
     "metadata": {},
     "output_type": "display_data"
    }
   ],
   "source": [
    "#R allows accessing values within vectors by using square brackets []\n",
    "values[3]\n",
    "names[2]"
   ]
  },
  {
   "cell_type": "code",
   "execution_count": 14,
   "metadata": {
    "collapsed": false
   },
   "outputs": [
    {
     "data": {
      "text/html": [
       "<ol class=list-inline>\n",
       "\t<li>1</li>\n",
       "\t<li>2</li>\n",
       "\t<li>2</li>\n",
       "\t<li>4</li>\n",
       "</ol>\n"
      ],
      "text/latex": [
       "\\begin{enumerate*}\n",
       "\\item 1\n",
       "\\item 2\n",
       "\\item 2\n",
       "\\item 4\n",
       "\\end{enumerate*}\n"
      ],
      "text/markdown": [
       "1. 1\n",
       "2. 2\n",
       "3. 2\n",
       "4. 4\n",
       "\n",
       "\n"
      ],
      "text/plain": [
       "[1] 1 2 2 4"
      ]
     },
     "metadata": {},
     "output_type": "display_data"
    }
   ],
   "source": [
    "#Additionally overwriting values is simple by \n",
    "values[3] <- 2\n",
    "values"
   ]
  },
  {
   "cell_type": "code",
   "execution_count": 27,
   "metadata": {
    "collapsed": false
   },
   "outputs": [
    {
     "data": {
      "text/html": [
       "'Logical:'"
      ],
      "text/latex": [
       "'Logical:'"
      ],
      "text/markdown": [
       "'Logical:'"
      ],
      "text/plain": [
       "[1] \"Logical:\""
      ]
     },
     "metadata": {},
     "output_type": "display_data"
    },
    {
     "name": "stdout",
     "output_type": "stream",
     "text": [
      "[1] \"logical\"\n"
     ]
    },
    {
     "data": {
      "text/html": [
       "'Numeric:'"
      ],
      "text/latex": [
       "'Numeric:'"
      ],
      "text/markdown": [
       "'Numeric:'"
      ],
      "text/plain": [
       "[1] \"Numeric:\""
      ]
     },
     "metadata": {},
     "output_type": "display_data"
    },
    {
     "name": "stdout",
     "output_type": "stream",
     "text": [
      "[1] \"numeric\"\n"
     ]
    },
    {
     "data": {
      "text/html": [
       "'Integer:'"
      ],
      "text/latex": [
       "'Integer:'"
      ],
      "text/markdown": [
       "'Integer:'"
      ],
      "text/plain": [
       "[1] \"Integer:\""
      ]
     },
     "metadata": {},
     "output_type": "display_data"
    },
    {
     "name": "stdout",
     "output_type": "stream",
     "text": [
      "[1] \"integer\"\n"
     ]
    },
    {
     "data": {
      "text/html": [
       "'Complex:'"
      ],
      "text/latex": [
       "'Complex:'"
      ],
      "text/markdown": [
       "'Complex:'"
      ],
      "text/plain": [
       "[1] \"Complex:\""
      ]
     },
     "metadata": {},
     "output_type": "display_data"
    },
    {
     "name": "stdout",
     "output_type": "stream",
     "text": [
      "[1] \"complex\"\n"
     ]
    },
    {
     "data": {
      "text/html": [
       "'Character:'"
      ],
      "text/latex": [
       "'Character:'"
      ],
      "text/markdown": [
       "'Character:'"
      ],
      "text/plain": [
       "[1] \"Character:\""
      ]
     },
     "metadata": {},
     "output_type": "display_data"
    },
    {
     "name": "stdout",
     "output_type": "stream",
     "text": [
      "[1] \"character\"\n"
     ]
    }
   ],
   "source": [
    "#There are several data types in R including logical, numeric, integer, character, and complex\n",
    "\n",
    "\"Logical:\"\n",
    "v <- TRUE\n",
    "print(class(v))\n",
    "\n",
    "\"Numeric:\"\n",
    "v <- 1.5\n",
    "print(class(v))\n",
    "\n",
    "#Integers are numbers that can not have decimals in them. Putting an L forces them \n",
    "#to be stored as an integer.\n",
    "\n",
    "\"Integer:\"\n",
    "v <- 2L\n",
    "print(class(v))\n",
    "\n",
    "\"Complex:\"\n",
    "v <- 3+2i\n",
    "print(class(v))\n",
    "\n",
    "\"Character:\"\n",
    "v <- \"Hey\"\n",
    "print(class(v))"
   ]
  },
  {
   "cell_type": "code",
   "execution_count": 30,
   "metadata": {
    "collapsed": false
   },
   "outputs": [
    {
     "name": "stdout",
     "output_type": "stream",
     "text": [
      "[[1]]\n",
      "[1] \"Hello\"\n",
      "\n",
      "[[2]]\n",
      "[1] 1 2 3\n",
      "\n",
      "[[3]]\n",
      "[1] 22\n",
      "\n",
      "[[4]]\n",
      "function (x)  .Primitive(\"cos\")\n",
      "\n"
     ]
    }
   ],
   "source": [
    "#Lists are an R-Object type which can contain many different types of elements\n",
    "#such as vectors, functions, and even lists inside\n",
    "list1 <- list(\"Hello\", c(1,2,3), 22, cos)\n",
    "print(list1)"
   ]
  },
  {
   "cell_type": "code",
   "execution_count": 39,
   "metadata": {
    "collapsed": false
   },
   "outputs": [
    {
     "name": "stdout",
     "output_type": "stream",
     "text": [
      "     [,1] [,2]\n",
      "[1,] \"a\"  \"b\" \n",
      "[2,] \"c\"  \"d\" \n"
     ]
    }
   ],
   "source": [
    " #Matrixes are 2D data sets which can be created using vector input\n",
    "m = matrix(c('a','b','c','d'), nrow = 2, ncol = 2, byrow = \"TRUE\")\n",
    "print(m)"
   ]
  },
  {
   "cell_type": "code",
   "execution_count": 42,
   "metadata": {
    "collapsed": false
   },
   "outputs": [
    {
     "name": "stdout",
     "output_type": "stream",
     "text": [
      ", , 1\n",
      "\n",
      "     [,1] [,2]\n",
      "[1,] \"a\"  \"b\" \n",
      "[2,] \"c\"  \"d\" \n",
      "\n",
      ", , 2\n",
      "\n",
      "     [,1] [,2]\n",
      "[1,] \"a\"  \"b\" \n",
      "[2,] \"c\"  \"d\" \n",
      "\n"
     ]
    }
   ],
   "source": [
    "#Arrays alows more dimentions to the array\n",
    "a <- array(m, dim = c(2,2,2))\n",
    "print(a)"
   ]
  },
  {
   "cell_type": "code",
   "execution_count": null,
   "metadata": {
    "collapsed": true
   },
   "outputs": [],
   "source": [
    "# R's primary use however is using many data points rather than a few, and these \n",
    "# data points are usually stored in CSV files. CSV stands for comma seperated values and\n",
    "# each line contains a row of values and each column is seperatedby a comma. The first line\n",
    "# is assumed to be the labels for each column."
   ]
  }
 ],
 "metadata": {
  "anaconda-cloud": {},
  "kernelspec": {
   "display_name": "R",
   "language": "R",
   "name": "ir"
  },
  "language_info": {
   "codemirror_mode": "r",
   "file_extension": ".r",
   "mimetype": "text/x-r-source",
   "name": "R",
   "pygments_lexer": "r",
   "version": "3.3.1"
  }
 },
 "nbformat": 4,
 "nbformat_minor": 0
}

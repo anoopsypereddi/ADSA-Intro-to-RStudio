{
 "cells": [
  {
   "cell_type": "code",
   "execution_count": 18,
   "metadata": {
    "collapsed": false
   },
   "outputs": [
    {
     "ename": "ERROR",
     "evalue": "Error in parse(text = x, srcfile = src): <text>:3:13: unexpected symbol\n2: ---\n3: title: ADSA Logo\n               ^\n",
     "output_type": "error",
     "traceback": [
      "Error in parse(text = x, srcfile = src): <text>:3:13: unexpected symbol\n2: ---\n3: title: ADSA Logo\n               ^\nTraceback:\n"
     ]
    }
   ],
   "source": [
    "#![ADSA Logo](http://i.imgur.com/BV0CdHZ.png?2 \"ADSA Logo\")\n",
    "---\n",
    "title: \"ADSA Logo\"\n",
    "output: \"HI\"\n",
    "---"
   ]
  },
  {
   "cell_type": "code",
   "execution_count": 44,
   "metadata": {
    "collapsed": false
   },
   "outputs": [
    {
     "name": "stdout",
     "output_type": "stream",
     "text": [
      "x + y = 6 \n",
      "y - x = 2 \n",
      "sqrt(y) = 2 \n",
      "y^(x + y) =  4096 \n"
     ]
    }
   ],
   "source": [
    "#R allows for a plethora of different opperations such as:\n",
    "#x + y\n",
    "x <- 2\n",
    "y <- 4\n",
    "\n",
    "cat(\"x + y =\", x + y, \"\\n\")\n",
    "\n",
    "#y - x\n",
    "cat(\"y - x =\", y - x, \"\\n\")\n",
    "\n",
    "#square root y\n",
    "cat(\"sqrt(y) =\", sqrt(y), \"\\n\")\n",
    "\n",
    "#y^(x + y)\n",
    "cat(\"y^(x + y) = \", y ^ (x + y), \"\\n\")\n"
   ]
  },
  {
   "cell_type": "code",
   "execution_count": 45,
   "metadata": {
    "collapsed": false
   },
   "outputs": [],
   "source": [
    "# Assignments in R\n",
    "# The c stands for combine and the idea is to store the list under a \n",
    "# given name refering to the data using the '<-' symbol\n",
    "values <- c(1,2,3,4)\n",
    "names <- c(\"Jake\", \"Jessica\", \"Rachel\", \"Alex\")"
   ]
  },
  {
   "cell_type": "code",
   "execution_count": 46,
   "metadata": {
    "collapsed": false
   },
   "outputs": [
    {
     "data": {
      "text/html": [
       "3"
      ],
      "text/latex": [
       "3"
      ],
      "text/markdown": [
       "3"
      ],
      "text/plain": [
       "[1] 3"
      ]
     },
     "metadata": {},
     "output_type": "display_data"
    },
    {
     "data": {
      "text/html": [
       "'Jessica'"
      ],
      "text/latex": [
       "'Jessica'"
      ],
      "text/markdown": [
       "'Jessica'"
      ],
      "text/plain": [
       "[1] \"Jessica\""
      ]
     },
     "metadata": {},
     "output_type": "display_data"
    }
   ],
   "source": [
    "#R allows accessing values within vectors by using square brackets []\n",
    "values[3]\n",
    "names[2]"
   ]
  },
  {
   "cell_type": "code",
   "execution_count": 43,
   "metadata": {
    "collapsed": false
   },
   "outputs": [
    {
     "name": "stdout",
     "output_type": "stream",
     "text": [
      "x + y = 6 \n",
      "y - x = 2 \n",
      "sqrt(y) = 2 \n",
      "y^(x + y) =  4096 \n"
     ]
    }
   ],
   "source": [
    "# R's primary use however is using many data points rather than a few, and these \n",
    "# data points are usually stored in CSV files. CSV stands for comma seperated values and\n",
    "# each line contains a row of values and each column is seperatedby a comma. The first line\n",
    "# is assumed to be "
   ]
  },
  {
   "cell_type": "code",
   "execution_count": null,
   "metadata": {
    "collapsed": true
   },
   "outputs": [],
   "source": [
    "\n"
   ]
  }
 ],
 "metadata": {
  "anaconda-cloud": {},
  "kernelspec": {
   "display_name": "R",
   "language": "R",
   "name": "ir"
  },
  "language_info": {
   "codemirror_mode": "r",
   "file_extension": ".r",
   "mimetype": "text/x-r-source",
   "name": "R",
   "pygments_lexer": "r",
   "version": "3.3.1"
  }
 },
 "nbformat": 4,
 "nbformat_minor": 0
}
